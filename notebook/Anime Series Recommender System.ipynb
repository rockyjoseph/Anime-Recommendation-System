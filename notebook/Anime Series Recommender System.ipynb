{
 "cells": [
  {
   "cell_type": "code",
   "execution_count": 1,
   "id": "1532879a",
   "metadata": {},
   "outputs": [],
   "source": [
    "import re\n",
    "\n",
    "from nltk.stem.porter import PorterStemmer\n",
    "from sklearn.feature_extraction.text import TfidfVectorizer, CountVectorizer\n",
    "from sklearn.metrics.pairwise import cosine_similarity"
   ]
  },
  {
   "cell_type": "code",
   "execution_count": 2,
   "id": "e9194b9d",
   "metadata": {},
   "outputs": [
    {
     "data": {
      "application/javascript": "\n        if (window._pyforest_update_imports_cell) { window._pyforest_update_imports_cell('import pandas as pd'); }\n    ",
      "text/plain": [
       "<IPython.core.display.Javascript object>"
      ]
     },
     "metadata": {},
     "output_type": "display_data"
    },
    {
     "data": {
      "text/html": [
       "<div>\n",
       "<style scoped>\n",
       "    .dataframe tbody tr th:only-of-type {\n",
       "        vertical-align: middle;\n",
       "    }\n",
       "\n",
       "    .dataframe tbody tr th {\n",
       "        vertical-align: top;\n",
       "    }\n",
       "\n",
       "    .dataframe thead th {\n",
       "        text-align: right;\n",
       "    }\n",
       "</style>\n",
       "<table border=\"1\" class=\"dataframe\">\n",
       "  <thead>\n",
       "    <tr style=\"text-align: right;\">\n",
       "      <th></th>\n",
       "      <th>Unnamed: 0</th>\n",
       "      <th>title</th>\n",
       "      <th>genres</th>\n",
       "      <th>description</th>\n",
       "      <th>poster</th>\n",
       "      <th>url</th>\n",
       "    </tr>\n",
       "  </thead>\n",
       "  <tbody>\n",
       "    <tr>\n",
       "      <th>0</th>\n",
       "      <td>0</td>\n",
       "      <td>One Piece</td>\n",
       "      <td>['Action', 'Adventure', 'Comedy', 'Drama', 'Fa...</td>\n",
       "      <td>Gold Roger was known as the \"Pirate King,\" the...</td>\n",
       "      <td>https://img.flawlessfiles.com/_r/300x400/100/5...</td>\n",
       "      <td>https://aniwatch.to/one-piece-100</td>\n",
       "    </tr>\n",
       "    <tr>\n",
       "      <th>1</th>\n",
       "      <td>1</td>\n",
       "      <td>Chainsaw Man</td>\n",
       "      <td>['Action', 'Adventure', 'Demons', 'Horror', 'S...</td>\n",
       "      <td>Denji is robbed of a normal teenage life, left...</td>\n",
       "      <td>https://img.flawlessfiles.com/_r/300x400/100/b...</td>\n",
       "      <td>https://aniwatch.to/chainsaw-man-17406</td>\n",
       "    </tr>\n",
       "    <tr>\n",
       "      <th>2</th>\n",
       "      <td>2</td>\n",
       "      <td>Demon Slayer: Kimetsu no Yaiba Swordsmith Vill...</td>\n",
       "      <td>['Action', 'Adventure', 'Demons', 'Historical'...</td>\n",
       "      <td>It adapts the story from volume 12 (chapter 98...</td>\n",
       "      <td>https://img.flawlessfiles.com/_r/300x400/100/d...</td>\n",
       "      <td>https://aniwatch.to/demon-slayer-kimetsu-no-ya...</td>\n",
       "    </tr>\n",
       "    <tr>\n",
       "      <th>3</th>\n",
       "      <td>3</td>\n",
       "      <td>Attack on Titan</td>\n",
       "      <td>['Action', 'Mystery', 'Drama', 'Fantasy', 'Sho...</td>\n",
       "      <td>Centuries ago, mankind was slaughtered to near...</td>\n",
       "      <td>https://img.flawlessfiles.com/_r/300x400/100/d...</td>\n",
       "      <td>https://aniwatch.to/attack-on-titan-112</td>\n",
       "    </tr>\n",
       "    <tr>\n",
       "      <th>4</th>\n",
       "      <td>4</td>\n",
       "      <td>Jujutsu Kaisen (TV)</td>\n",
       "      <td>['Action', 'Demons', 'Horror', 'School', 'Shou...</td>\n",
       "      <td>Idly indulging in baseless paranormal activiti...</td>\n",
       "      <td>https://img.flawlessfiles.com/_r/300x400/100/8...</td>\n",
       "      <td>https://aniwatch.to/jujutsu-kaisen-tv-534</td>\n",
       "    </tr>\n",
       "  </tbody>\n",
       "</table>\n",
       "</div>"
      ],
      "text/plain": [
       "   Unnamed: 0                                              title  \\\n",
       "0           0                                          One Piece   \n",
       "1           1                                       Chainsaw Man   \n",
       "2           2  Demon Slayer: Kimetsu no Yaiba Swordsmith Vill...   \n",
       "3           3                                    Attack on Titan   \n",
       "4           4                                Jujutsu Kaisen (TV)   \n",
       "\n",
       "                                              genres  \\\n",
       "0  ['Action', 'Adventure', 'Comedy', 'Drama', 'Fa...   \n",
       "1  ['Action', 'Adventure', 'Demons', 'Horror', 'S...   \n",
       "2  ['Action', 'Adventure', 'Demons', 'Historical'...   \n",
       "3  ['Action', 'Mystery', 'Drama', 'Fantasy', 'Sho...   \n",
       "4  ['Action', 'Demons', 'Horror', 'School', 'Shou...   \n",
       "\n",
       "                                         description  \\\n",
       "0  Gold Roger was known as the \"Pirate King,\" the...   \n",
       "1  Denji is robbed of a normal teenage life, left...   \n",
       "2  It adapts the story from volume 12 (chapter 98...   \n",
       "3  Centuries ago, mankind was slaughtered to near...   \n",
       "4  Idly indulging in baseless paranormal activiti...   \n",
       "\n",
       "                                              poster  \\\n",
       "0  https://img.flawlessfiles.com/_r/300x400/100/5...   \n",
       "1  https://img.flawlessfiles.com/_r/300x400/100/b...   \n",
       "2  https://img.flawlessfiles.com/_r/300x400/100/d...   \n",
       "3  https://img.flawlessfiles.com/_r/300x400/100/d...   \n",
       "4  https://img.flawlessfiles.com/_r/300x400/100/8...   \n",
       "\n",
       "                                                 url  \n",
       "0                  https://aniwatch.to/one-piece-100  \n",
       "1             https://aniwatch.to/chainsaw-man-17406  \n",
       "2  https://aniwatch.to/demon-slayer-kimetsu-no-ya...  \n",
       "3            https://aniwatch.to/attack-on-titan-112  \n",
       "4          https://aniwatch.to/jujutsu-kaisen-tv-534  "
      ]
     },
     "execution_count": 2,
     "metadata": {},
     "output_type": "execute_result"
    }
   ],
   "source": [
    "df = pd.read_csv('anime_series.csv')\n",
    "df.head()"
   ]
  },
  {
   "cell_type": "code",
   "execution_count": 3,
   "id": "1b2a7e99",
   "metadata": {},
   "outputs": [
    {
     "data": {
      "text/plain": [
       "(5067, 6)"
      ]
     },
     "execution_count": 3,
     "metadata": {},
     "output_type": "execute_result"
    }
   ],
   "source": [
    "df.shape"
   ]
  },
  {
   "cell_type": "code",
   "execution_count": 4,
   "id": "da288aba",
   "metadata": {},
   "outputs": [
    {
     "name": "stdout",
     "output_type": "stream",
     "text": [
      "<class 'pandas.core.frame.DataFrame'>\n",
      "RangeIndex: 5067 entries, 0 to 5066\n",
      "Data columns (total 6 columns):\n",
      " #   Column       Non-Null Count  Dtype \n",
      "---  ------       --------------  ----- \n",
      " 0   Unnamed: 0   5067 non-null   int64 \n",
      " 1   title        5067 non-null   object\n",
      " 2   genres       5067 non-null   object\n",
      " 3   description  5067 non-null   object\n",
      " 4   poster       5067 non-null   object\n",
      " 5   url          5067 non-null   object\n",
      "dtypes: int64(1), object(5)\n",
      "memory usage: 237.6+ KB\n"
     ]
    }
   ],
   "source": [
    "df.info()"
   ]
  },
  {
   "cell_type": "code",
   "execution_count": 5,
   "id": "43331f24",
   "metadata": {},
   "outputs": [
    {
     "data": {
      "text/plain": [
       "'https://aniwatch.to/one-piece-100'"
      ]
     },
     "execution_count": 5,
     "metadata": {},
     "output_type": "execute_result"
    }
   ],
   "source": [
    "df['url'][0]"
   ]
  },
  {
   "cell_type": "code",
   "execution_count": 6,
   "id": "b2db3766",
   "metadata": {},
   "outputs": [
    {
     "data": {
      "text/plain": [
       "'https://img.flawlessfiles.com/_r/300x400/100/54/90/5490cb32786d4f7fef0f40d7266df532/5490cb32786d4f7fef0f40d7266df532.jpg'"
      ]
     },
     "execution_count": 6,
     "metadata": {},
     "output_type": "execute_result"
    }
   ],
   "source": [
    "df['poster'][0]"
   ]
  },
  {
   "cell_type": "code",
   "execution_count": 7,
   "id": "bec906b0",
   "metadata": {},
   "outputs": [
    {
     "data": {
      "text/plain": [
       "0"
      ]
     },
     "execution_count": 7,
     "metadata": {},
     "output_type": "execute_result"
    }
   ],
   "source": [
    "df.duplicated().sum()"
   ]
  },
  {
   "cell_type": "code",
   "execution_count": 8,
   "id": "021b2e2e",
   "metadata": {},
   "outputs": [
    {
     "data": {
      "text/plain": [
       "Unnamed: 0     0\n",
       "title          0\n",
       "genres         0\n",
       "description    0\n",
       "poster         0\n",
       "url            0\n",
       "dtype: int64"
      ]
     },
     "execution_count": 8,
     "metadata": {},
     "output_type": "execute_result"
    }
   ],
   "source": [
    "df.isnull().sum()"
   ]
  },
  {
   "cell_type": "code",
   "execution_count": 9,
   "id": "f975e03a",
   "metadata": {},
   "outputs": [],
   "source": [
    "df.drop(columns=['Unnamed: 0','poster','url'], inplace=True)"
   ]
  },
  {
   "cell_type": "code",
   "execution_count": 10,
   "id": "d4b4266d",
   "metadata": {},
   "outputs": [
    {
     "data": {
      "text/html": [
       "<div>\n",
       "<style scoped>\n",
       "    .dataframe tbody tr th:only-of-type {\n",
       "        vertical-align: middle;\n",
       "    }\n",
       "\n",
       "    .dataframe tbody tr th {\n",
       "        vertical-align: top;\n",
       "    }\n",
       "\n",
       "    .dataframe thead th {\n",
       "        text-align: right;\n",
       "    }\n",
       "</style>\n",
       "<table border=\"1\" class=\"dataframe\">\n",
       "  <thead>\n",
       "    <tr style=\"text-align: right;\">\n",
       "      <th></th>\n",
       "      <th>title</th>\n",
       "      <th>genres</th>\n",
       "      <th>description</th>\n",
       "    </tr>\n",
       "  </thead>\n",
       "  <tbody>\n",
       "    <tr>\n",
       "      <th>0</th>\n",
       "      <td>One Piece</td>\n",
       "      <td>['Action', 'Adventure', 'Comedy', 'Drama', 'Fa...</td>\n",
       "      <td>Gold Roger was known as the \"Pirate King,\" the...</td>\n",
       "    </tr>\n",
       "    <tr>\n",
       "      <th>1</th>\n",
       "      <td>Chainsaw Man</td>\n",
       "      <td>['Action', 'Adventure', 'Demons', 'Horror', 'S...</td>\n",
       "      <td>Denji is robbed of a normal teenage life, left...</td>\n",
       "    </tr>\n",
       "    <tr>\n",
       "      <th>2</th>\n",
       "      <td>Demon Slayer: Kimetsu no Yaiba Swordsmith Vill...</td>\n",
       "      <td>['Action', 'Adventure', 'Demons', 'Historical'...</td>\n",
       "      <td>It adapts the story from volume 12 (chapter 98...</td>\n",
       "    </tr>\n",
       "    <tr>\n",
       "      <th>3</th>\n",
       "      <td>Attack on Titan</td>\n",
       "      <td>['Action', 'Mystery', 'Drama', 'Fantasy', 'Sho...</td>\n",
       "      <td>Centuries ago, mankind was slaughtered to near...</td>\n",
       "    </tr>\n",
       "    <tr>\n",
       "      <th>4</th>\n",
       "      <td>Jujutsu Kaisen (TV)</td>\n",
       "      <td>['Action', 'Demons', 'Horror', 'School', 'Shou...</td>\n",
       "      <td>Idly indulging in baseless paranormal activiti...</td>\n",
       "    </tr>\n",
       "  </tbody>\n",
       "</table>\n",
       "</div>"
      ],
      "text/plain": [
       "                                               title  \\\n",
       "0                                          One Piece   \n",
       "1                                       Chainsaw Man   \n",
       "2  Demon Slayer: Kimetsu no Yaiba Swordsmith Vill...   \n",
       "3                                    Attack on Titan   \n",
       "4                                Jujutsu Kaisen (TV)   \n",
       "\n",
       "                                              genres  \\\n",
       "0  ['Action', 'Adventure', 'Comedy', 'Drama', 'Fa...   \n",
       "1  ['Action', 'Adventure', 'Demons', 'Horror', 'S...   \n",
       "2  ['Action', 'Adventure', 'Demons', 'Historical'...   \n",
       "3  ['Action', 'Mystery', 'Drama', 'Fantasy', 'Sho...   \n",
       "4  ['Action', 'Demons', 'Horror', 'School', 'Shou...   \n",
       "\n",
       "                                         description  \n",
       "0  Gold Roger was known as the \"Pirate King,\" the...  \n",
       "1  Denji is robbed of a normal teenage life, left...  \n",
       "2  It adapts the story from volume 12 (chapter 98...  \n",
       "3  Centuries ago, mankind was slaughtered to near...  \n",
       "4  Idly indulging in baseless paranormal activiti...  "
      ]
     },
     "execution_count": 10,
     "metadata": {},
     "output_type": "execute_result"
    }
   ],
   "source": [
    "df.head()"
   ]
  },
  {
   "cell_type": "code",
   "execution_count": 11,
   "id": "2645eb5a",
   "metadata": {},
   "outputs": [
    {
     "data": {
      "text/plain": [
       "\"Denji is robbed of a normal teenage life, left with nothing but his deadbeat father's overwhelming debt. His only companion is his pet, the chainsaw devil Pochita, with whom he slays devils for money that inevitably ends up in the yakuza's pockets. All Denji can do is dream of a good, simple life: one with delicious food and a beautiful girlfriend by his side. But an act of greedy betrayal by the yakuza leads to Denji's brutal, untimely death, crushing all hope of him ever achieving happiness.\\r\\n\\r\\nRemarkably, an old contract allows Pochita to merge with the deceased Denji and bestow devil powers on him, changing him into a hybrid able to transform his body parts into chainsaws. Because Denji's new abilities pose a significant risk to society, the Public Safety Bureau's elite devil hunter Makima takes him in, letting him live as long as he obeys her command. Guided by the promise of a content life alongside an attractive woman, Denji devotes everything and fights with all his might to make his naive dreams a reality.\""
      ]
     },
     "execution_count": 11,
     "metadata": {},
     "output_type": "execute_result"
    }
   ],
   "source": [
    "df['description'][1]"
   ]
  },
  {
   "cell_type": "code",
   "execution_count": 12,
   "id": "eec1588b",
   "metadata": {},
   "outputs": [
    {
     "data": {
      "text/plain": [
       "\"['Action', 'Adventure', 'Comedy', 'Drama', 'Fantasy', 'Shounen', 'Super Power']\""
      ]
     },
     "execution_count": 12,
     "metadata": {},
     "output_type": "execute_result"
    }
   ],
   "source": [
    "df['genres'][0]"
   ]
  },
  {
   "cell_type": "code",
   "execution_count": 13,
   "id": "ed3a97f8",
   "metadata": {},
   "outputs": [],
   "source": [
    "df['genres'] = df['genres'].apply(lambda x:x.replace(\"'\",''))\n",
    "df['genres'] = df['genres'].apply(lambda x:x.replace(\" \",''))"
   ]
  },
  {
   "cell_type": "code",
   "execution_count": 14,
   "id": "7cd50781",
   "metadata": {},
   "outputs": [],
   "source": [
    "df['description'] = df['description'].apply(lambda x:x.replace(\"\\n\", ''))\n",
    "df['description'] = df['description'].apply(lambda x:x.replace(\"\\r\", ''))"
   ]
  },
  {
   "cell_type": "code",
   "execution_count": 15,
   "id": "2430cfbe",
   "metadata": {},
   "outputs": [],
   "source": [
    "import string\n",
    "strings = string.punctuation"
   ]
  },
  {
   "cell_type": "code",
   "execution_count": 16,
   "id": "2c959428",
   "metadata": {},
   "outputs": [],
   "source": [
    "def remove_punctuations(text):\n",
    "    for string in strings:\n",
    "        text = text.replace(string, '')\n",
    "        return text"
   ]
  },
  {
   "cell_type": "code",
   "execution_count": 17,
   "id": "533294a8",
   "metadata": {},
   "outputs": [],
   "source": [
    "df['description'] = df['description'].apply(remove_punctuations)"
   ]
  },
  {
   "cell_type": "code",
   "execution_count": 18,
   "id": "7cc062cf",
   "metadata": {},
   "outputs": [],
   "source": [
    "df['description'] = df['description'] + df['genres']"
   ]
  },
  {
   "cell_type": "code",
   "execution_count": 19,
   "id": "d1bbe0ff",
   "metadata": {},
   "outputs": [],
   "source": [
    "df['description'] = df['description'].apply(lambda x:x.lower())"
   ]
  },
  {
   "cell_type": "code",
   "execution_count": 20,
   "id": "7303a8e5",
   "metadata": {},
   "outputs": [],
   "source": [
    "df.drop(columns=['genres'], inplace=True)"
   ]
  },
  {
   "cell_type": "code",
   "execution_count": 21,
   "id": "479ae557",
   "metadata": {},
   "outputs": [
    {
     "data": {
      "text/html": [
       "<div>\n",
       "<style scoped>\n",
       "    .dataframe tbody tr th:only-of-type {\n",
       "        vertical-align: middle;\n",
       "    }\n",
       "\n",
       "    .dataframe tbody tr th {\n",
       "        vertical-align: top;\n",
       "    }\n",
       "\n",
       "    .dataframe thead th {\n",
       "        text-align: right;\n",
       "    }\n",
       "</style>\n",
       "<table border=\"1\" class=\"dataframe\">\n",
       "  <thead>\n",
       "    <tr style=\"text-align: right;\">\n",
       "      <th></th>\n",
       "      <th>title</th>\n",
       "      <th>description</th>\n",
       "    </tr>\n",
       "  </thead>\n",
       "  <tbody>\n",
       "    <tr>\n",
       "      <th>0</th>\n",
       "      <td>One Piece</td>\n",
       "      <td>gold roger was known as the \"pirate king,\" the...</td>\n",
       "    </tr>\n",
       "    <tr>\n",
       "      <th>1</th>\n",
       "      <td>Chainsaw Man</td>\n",
       "      <td>denji is robbed of a normal teenage life, left...</td>\n",
       "    </tr>\n",
       "    <tr>\n",
       "      <th>2</th>\n",
       "      <td>Demon Slayer: Kimetsu no Yaiba Swordsmith Vill...</td>\n",
       "      <td>it adapts the story from volume 12 (chapter 98...</td>\n",
       "    </tr>\n",
       "    <tr>\n",
       "      <th>3</th>\n",
       "      <td>Attack on Titan</td>\n",
       "      <td>centuries ago, mankind was slaughtered to near...</td>\n",
       "    </tr>\n",
       "    <tr>\n",
       "      <th>4</th>\n",
       "      <td>Jujutsu Kaisen (TV)</td>\n",
       "      <td>idly indulging in baseless paranormal activiti...</td>\n",
       "    </tr>\n",
       "    <tr>\n",
       "      <th>...</th>\n",
       "      <td>...</td>\n",
       "      <td>...</td>\n",
       "    </tr>\n",
       "    <tr>\n",
       "      <th>5062</th>\n",
       "      <td>Perman (1983)</td>\n",
       "      <td>mitsuo encountered superman, an alien who is a...</td>\n",
       "    </tr>\n",
       "    <tr>\n",
       "      <th>5063</th>\n",
       "      <td>The Dining of Link Lee</td>\n",
       "      <td>in beijing, a city full of opportunities and p...</td>\n",
       "    </tr>\n",
       "    <tr>\n",
       "      <th>5064</th>\n",
       "      <td>Detective Conan: Love Story at Police Headquar...</td>\n",
       "      <td>the special contains the footage from episodes...</td>\n",
       "    </tr>\n",
       "    <tr>\n",
       "      <th>5065</th>\n",
       "      <td>BeyWarriors: Cyborg</td>\n",
       "      <td>the newest series of the beyblade saga is beyw...</td>\n",
       "    </tr>\n",
       "    <tr>\n",
       "      <th>5066</th>\n",
       "      <td>Chimimo</td>\n",
       "      <td>in her house, mei onigami discovers a strange ...</td>\n",
       "    </tr>\n",
       "  </tbody>\n",
       "</table>\n",
       "<p>5067 rows × 2 columns</p>\n",
       "</div>"
      ],
      "text/plain": [
       "                                                  title  \\\n",
       "0                                             One Piece   \n",
       "1                                          Chainsaw Man   \n",
       "2     Demon Slayer: Kimetsu no Yaiba Swordsmith Vill...   \n",
       "3                                       Attack on Titan   \n",
       "4                                   Jujutsu Kaisen (TV)   \n",
       "...                                                 ...   \n",
       "5062                                      Perman (1983)   \n",
       "5063                             The Dining of Link Lee   \n",
       "5064  Detective Conan: Love Story at Police Headquar...   \n",
       "5065                                BeyWarriors: Cyborg   \n",
       "5066                                            Chimimo   \n",
       "\n",
       "                                            description  \n",
       "0     gold roger was known as the \"pirate king,\" the...  \n",
       "1     denji is robbed of a normal teenage life, left...  \n",
       "2     it adapts the story from volume 12 (chapter 98...  \n",
       "3     centuries ago, mankind was slaughtered to near...  \n",
       "4     idly indulging in baseless paranormal activiti...  \n",
       "...                                                 ...  \n",
       "5062  mitsuo encountered superman, an alien who is a...  \n",
       "5063  in beijing, a city full of opportunities and p...  \n",
       "5064  the special contains the footage from episodes...  \n",
       "5065  the newest series of the beyblade saga is beyw...  \n",
       "5066  in her house, mei onigami discovers a strange ...  \n",
       "\n",
       "[5067 rows x 2 columns]"
      ]
     },
     "execution_count": 21,
     "metadata": {},
     "output_type": "execute_result"
    }
   ],
   "source": [
    "df"
   ]
  },
  {
   "cell_type": "code",
   "execution_count": 22,
   "id": "8a4b1b73",
   "metadata": {},
   "outputs": [],
   "source": [
    "ps = PorterStemmer()\n",
    "\n",
    "def stem(text):\n",
    "    y = []\n",
    "    \n",
    "    for i in text.split():\n",
    "        y.append(ps.stem(i))\n",
    "        \n",
    "    return \" \".join(y)\n",
    "\n",
    "df['description'] = df['description'].apply(stem)"
   ]
  },
  {
   "cell_type": "code",
   "execution_count": 23,
   "id": "a9a4cec6",
   "metadata": {},
   "outputs": [],
   "source": [
    "cv = CountVectorizer(stop_words='english')\n",
    "vector = cv.fit_transform(df['description'])\n",
    "\n",
    "similarity = cosine_similarity(vector)"
   ]
  },
  {
   "cell_type": "code",
   "execution_count": 32,
   "id": "7b8ab3cb",
   "metadata": {},
   "outputs": [],
   "source": [
    "def recommendations(series):\n",
    "    \n",
    "    # Get the index of the movie that matches.\n",
    "    series_index = df[df['title'] == series].index[0]\n",
    "    \n",
    "    # Get the pairwsie similarity scores of all movies with that movie\n",
    "    cosine = similarity[series_index]\n",
    "    \n",
    "    # Sort the movies on similarity scores\n",
    "    similar = sorted(list(enumerate(cosine)), key=lambda x:x[1], reverse=True)\n",
    "    \n",
    "    # 10 most similiar movies\n",
    "    series_list = similar[1:11]\n",
    "    \n",
    "    # similarity = cosine[movie_index]\n",
    "    \n",
    "    for i in series_list:\n",
    "        print(df.iloc[i[0]].title)"
   ]
  },
  {
   "cell_type": "code",
   "execution_count": 33,
   "id": "7a063a6e",
   "metadata": {},
   "outputs": [
    {
     "name": "stdout",
     "output_type": "stream",
     "text": [
      "Dragon Ball Z Kai\n",
      "Dragon Ball Z: Summer Vacation Special\n",
      "Dragon Ball Super\n",
      "Dragon Ball Z Special 1: Bardock, The Father of Goku\n",
      "Goku: Midnight Eye\n",
      "Dragon Ball GT\n",
      "Dragon Ball\n",
      "Thousands of worlds\n",
      "UFO Robo Grendizer\n",
      "Cerberus\n"
     ]
    }
   ],
   "source": [
    "recommendations('Dragon Ball Z')"
   ]
  },
  {
   "cell_type": "code",
   "execution_count": 26,
   "id": "79c779b2",
   "metadata": {},
   "outputs": [],
   "source": [
    "import pickle"
   ]
  },
  {
   "cell_type": "code",
   "execution_count": 27,
   "id": "398f42be",
   "metadata": {},
   "outputs": [],
   "source": [
    "pickle.dump(df, open('anime_series.pkl','wb'))"
   ]
  },
  {
   "cell_type": "code",
   "execution_count": 28,
   "id": "e9c1f082",
   "metadata": {},
   "outputs": [],
   "source": [
    "pickle.dump(df.to_dict(), open('anime_series_dict.pkl','wb'))"
   ]
  },
  {
   "cell_type": "code",
   "execution_count": 29,
   "id": "f1749bb2",
   "metadata": {},
   "outputs": [],
   "source": [
    "pickle.dump(similarity, open('anime_series_similarity.pkl','wb'))"
   ]
  },
  {
   "cell_type": "code",
   "execution_count": null,
   "id": "6f0b1f06",
   "metadata": {},
   "outputs": [],
   "source": []
  }
 ],
 "metadata": {
  "kernelspec": {
   "display_name": "Python 3 (ipykernel)",
   "language": "python",
   "name": "python3"
  },
  "language_info": {
   "codemirror_mode": {
    "name": "ipython",
    "version": 3
   },
   "file_extension": ".py",
   "mimetype": "text/x-python",
   "name": "python",
   "nbconvert_exporter": "python",
   "pygments_lexer": "ipython3",
   "version": "3.9.12"
  }
 },
 "nbformat": 4,
 "nbformat_minor": 5
}
